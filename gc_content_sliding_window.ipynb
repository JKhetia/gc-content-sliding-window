{
 "cells": [
  {
   "cell_type": "code",
   "execution_count": 1,
   "id": "297f83da-ad6f-4b46-a915-95fdca9555d8",
   "metadata": {},
   "outputs": [
    {
     "name": "stdout",
     "output_type": "stream",
     "text": [
      "Defaulting to user installation because normal site-packages is not writeable\n",
      "Looking in links: /usr/share/pip-wheels\n",
      "Requirement already satisfied: numpy in /opt/conda/envs/anaconda-2024.02-py310/lib/python3.10/site-packages (1.26.4)\n",
      "Requirement already satisfied: matplotlib in /opt/conda/envs/anaconda-2024.02-py310/lib/python3.10/site-packages (3.8.0)\n",
      "Requirement already satisfied: contourpy>=1.0.1 in /opt/conda/envs/anaconda-2024.02-py310/lib/python3.10/site-packages (from matplotlib) (1.2.0)\n",
      "Requirement already satisfied: cycler>=0.10 in /opt/conda/envs/anaconda-2024.02-py310/lib/python3.10/site-packages (from matplotlib) (0.11.0)\n",
      "Requirement already satisfied: fonttools>=4.22.0 in /opt/conda/envs/anaconda-2024.02-py310/lib/python3.10/site-packages (from matplotlib) (4.25.0)\n",
      "Requirement already satisfied: kiwisolver>=1.0.1 in /opt/conda/envs/anaconda-2024.02-py310/lib/python3.10/site-packages (from matplotlib) (1.4.4)\n",
      "Requirement already satisfied: packaging>=20.0 in /opt/conda/envs/anaconda-2024.02-py310/lib/python3.10/site-packages (from matplotlib) (23.2)\n",
      "Requirement already satisfied: pillow>=6.2.0 in /opt/conda/envs/anaconda-2024.02-py310/lib/python3.10/site-packages (from matplotlib) (10.2.0)\n",
      "Requirement already satisfied: pyparsing>=2.3.1 in /opt/conda/envs/anaconda-2024.02-py310/lib/python3.10/site-packages (from matplotlib) (3.0.9)\n",
      "Requirement already satisfied: python-dateutil>=2.7 in /opt/conda/envs/anaconda-2024.02-py310/lib/python3.10/site-packages (from matplotlib) (2.8.2)\n",
      "Requirement already satisfied: six>=1.5 in /opt/conda/envs/anaconda-2024.02-py310/lib/python3.10/site-packages (from python-dateutil>=2.7->matplotlib) (1.16.0)\n",
      "Note: you may need to restart the kernel to use updated packages.\n"
     ]
    }
   ],
   "source": [
    "%pip install numpy matplotlib"
   ]
  },
  {
   "cell_type": "code",
   "execution_count": 2,
   "id": "3a9467e4-212c-4fd0-b693-2b16ffb5b96b",
   "metadata": {},
   "outputs": [],
   "source": [
    "import os                 # file paths & folders\n",
    "import csv                # write CSV tables\n",
    "import numpy as np        # simple numeric work\n",
    "import matplotlib.pyplot as plt  # plotting (appears inline in Jupyter)"
   ]
  },
  {
   "cell_type": "code",
   "execution_count": 3,
   "id": "8a558cac-aa9d-4563-b264-aad674d1a778",
   "metadata": {},
   "outputs": [
    {
     "data": {
      "text/plain": [
       "('/home/f2ba0ff0-aa7c-4010-bd78-4611604e113c/gc-project',\n",
       " '/home/f2ba0ff0-aa7c-4010-bd78-4611604e113c/gc-project/data',\n",
       " '/home/f2ba0ff0-aa7c-4010-bd78-4611604e113c/gc-project/figures',\n",
       " '/home/f2ba0ff0-aa7c-4010-bd78-4611604e113c/gc-project/results')"
      ]
     },
     "execution_count": 3,
     "metadata": {},
     "output_type": "execute_result"
    }
   ],
   "source": [
    "import os\n",
    "\n",
    "ROOT = os.getcwd()\n",
    "DATA = os.path.join(ROOT, \"data\")\n",
    "FIGS = os.path.join(ROOT, \"figures\")\n",
    "RES  = os.path.join(ROOT, \"results\")\n",
    "\n",
    "os.makedirs(DATA, exist_ok=True)\n",
    "os.makedirs(FIGS, exist_ok=True)\n",
    "os.makedirs(RES,  exist_ok=True)\n",
    "\n",
    "ROOT, DATA, FIGS, RES\n"
   ]
  },
  {
   "cell_type": "code",
   "execution_count": 4,
   "id": "87187c3c-72f4-40cc-a634-ab47f86bee85",
   "metadata": {},
   "outputs": [
    {
     "data": {
      "text/plain": [
       "'/home/f2ba0ff0-aa7c-4010-bd78-4611604e113c/gc-project/data/example_sequence.fasta'"
      ]
     },
     "execution_count": 4,
     "metadata": {},
     "output_type": "execute_result"
    }
   ],
   "source": [
    "header = \">example_synthetic_sequence\"\n",
    "# three 1,000-bp blocks: mixed, GC-rich, AT-rich\n",
    "block1 = \"ATGC\" * 250      # 4 bases × 250 = 1000 bp (balanced)\n",
    "block2 = \"GCGC\" * 250      # GC-rich 1000 bp\n",
    "block3 = \"ATAT\" * 250      # AT-rich 1000 bp\n",
    "sequence = block1 + block2 + block3\n",
    "\n",
    "fasta_path = os.path.join(DATA, \"example_sequence.fasta\")\n",
    "with open(fasta_path, \"w\") as fh:\n",
    "    fh.write(header + \"\\n\")\n",
    "    # wrap sequence to 60 chars per line (FASTA style)\n",
    "    for i in range(0, len(sequence), 60):\n",
    "        fh.write(sequence[i:i+60] + \"\\n\")\n",
    "\n",
    "fasta_path"
   ]
  },
  {
   "cell_type": "code",
   "execution_count": 5,
   "id": "5925f51f-6a2d-4bbe-82b1-cad81a722864",
   "metadata": {},
   "outputs": [
    {
     "name": "stdout",
     "output_type": "stream",
     "text": [
      "/home/f2ba0ff0-aa7c-4010-bd78-4611604e113c/gc-project/data/example_sequence.fasta\n"
     ]
    },
    {
     "data": {
      "text/plain": [
       "(26, 3000, 'ATGCATGCATGCATGCATGCATGCATGCATGCATGCATGCATGCATGCATGCATGCATGC...')"
      ]
     },
     "execution_count": 5,
     "metadata": {},
     "output_type": "execute_result"
    }
   ],
   "source": [
    "import os\n",
    "\n",
    "# assume you already created a \"data\" folder with Step 2\n",
    "fasta_path = os.path.join(os.getcwd(), \"data\", \"example_sequence.fasta\")\n",
    "print(fasta_path)\n",
    "\n",
    "def read_fasta_single(path):\n",
    "    header = None\n",
    "    parts = []\n",
    "    with open(path, \"r\") as fh:\n",
    "        for line in fh:\n",
    "            line = line.strip()\n",
    "            if not line:\n",
    "                continue\n",
    "            if line.startswith(\">\"):\n",
    "                header = line[1:].strip()\n",
    "            else:\n",
    "                parts.append(line.replace(\" \", \"\").upper())\n",
    "    seq = \"\".join(parts)\n",
    "    return header, seq\n",
    "\n",
    "hdr, seq = read_fasta_single(fasta_path)\n",
    "len(hdr) if hdr else hdr, len(seq), seq[:60] + (\"...\" if len(seq) > 60 else \"\")\n"
   ]
  },
  {
   "cell_type": "code",
   "execution_count": 6,
   "id": "3f738feb-bf33-418c-8d00-a078d68d8812",
   "metadata": {},
   "outputs": [
    {
     "data": {
      "text/plain": [
       "(29,\n",
       " 50.0,\n",
       " [{'start': 0, 'end': 200, 'length': 200, 'gc_percent': 50.0},\n",
       "  {'start': 100, 'end': 300, 'length': 200, 'gc_percent': 50.0},\n",
       "  {'start': 200, 'end': 400, 'length': 200, 'gc_percent': 50.0}])"
      ]
     },
     "execution_count": 6,
     "metadata": {},
     "output_type": "execute_result"
    }
   ],
   "source": [
    "def gc_fraction(dna):\n",
    "    dna = dna.upper()\n",
    "    gc = sum(1 for b in dna if b in (\"G\", \"C\"))\n",
    "    acgt = sum(1 for b in dna if b in (\"A\", \"C\", \"G\", \"T\"))\n",
    "    return (gc / acgt) if acgt > 0 else 0.0\n",
    "\n",
    "def sliding_windows(dna, window=200, step=100):\n",
    "    n = len(dna)\n",
    "    i = 0\n",
    "    while i < n:\n",
    "        j = i + window\n",
    "        if j > n:\n",
    "            j = n\n",
    "        yield (i, j, dna[i:j])\n",
    "        if j == n:\n",
    "            break\n",
    "        i += step\n",
    "\n",
    "def gc_profile(dna, window=200, step=100):\n",
    "    rows = []\n",
    "    for start, end, sub in sliding_windows(dna, window=window, step=step):\n",
    "        gc_pct = gc_fraction(sub) * 100.0\n",
    "        rows.append({\"start\": start, \"end\": end, \"length\": end - start, \"gc_percent\": gc_pct})\n",
    "    return rows\n",
    "\n",
    "overall_gc = gc_fraction(seq) * 100.0\n",
    "rows = gc_profile(seq, window=200, step=100)\n",
    "\n",
    "len(rows), overall_gc, rows[:3]\n"
   ]
  },
  {
   "cell_type": "code",
   "execution_count": 7,
   "id": "cf0f7ffa-8b91-4ecc-ab13-4e6f12d48cd9",
   "metadata": {},
   "outputs": [
    {
     "data": {
      "text/plain": [
       "'/home/f2ba0ff0-aa7c-4010-bd78-4611604e113c/gc-project/results/gc_windows.csv'"
      ]
     },
     "execution_count": 7,
     "metadata": {},
     "output_type": "execute_result"
    }
   ],
   "source": [
    "import csv\n",
    "\n",
    "csv_path = os.path.join(RES, \"gc_windows.csv\")\n",
    "with open(csv_path, \"w\", newline=\"\") as fh:\n",
    "    writer = csv.DictWriter(fh, fieldnames=[\"start\", \"end\", \"length\", \"gc_percent\"])\n",
    "    writer.writeheader()\n",
    "    for r in rows:\n",
    "        writer.writerow(r)\n",
    "\n",
    "csv_path\n"
   ]
  },
  {
   "cell_type": "code",
   "execution_count": 8,
   "id": "acdddcda-3804-439a-9c0a-dd5592ae9fd4",
   "metadata": {},
   "outputs": [
    {
     "data": {
      "text/plain": [
       "'/home/f2ba0ff0-aa7c-4010-bd78-4611604e113c/gc-project/figures/gc_profile.png'"
      ]
     },
     "execution_count": 8,
     "metadata": {},
     "output_type": "execute_result"
    },
    {
     "data": {
      "image/png": "[encoded data removed]",
      "text/plain": [
       "<Figure size 640x480 with 1 Axes>"
      ]
     },
     "metadata": {},
     "output_type": "display_data"
    }
   ],
   "source": [
    "import numpy as np\n",
    "import matplotlib.pyplot as plt\n",
    "\n",
    "xs = [ (r[\"start\"] + r[\"end\"]) / 2 for r in rows ]  # window midpoints\n",
    "ys = [ r[\"gc_percent\"] for r in rows ]\n",
    "\n",
    "plt.figure()\n",
    "plt.plot(xs, ys)\n",
    "plt.xlabel(\"Genomic position (bp)\")\n",
    "plt.ylabel(\"GC% (windowed)\")\n",
    "plt.title(f\"GC% profile (window=200, step=100)\")\n",
    "fig_path1 = os.path.join(FIGS, \"gc_profile.png\")\n",
    "plt.savefig(fig_path1, dpi=200, bbox_inches=\"tight\")\n",
    "fig_path1\n"
   ]
  },
  {
   "cell_type": "code",
   "execution_count": 14,
   "id": "c7c6c11a-7826-4319-b965-151164512595",
   "metadata": {},
   "outputs": [
    {
     "data": {
      "text/plain": [
       "'/home/f2ba0ff0-aa7c-4010-bd78-4611604e113c/gc-project/figures/gc_overall.png'"
      ]
     },
     "execution_count": 14,
     "metadata": {},
     "output_type": "execute_result"
    },
    {
     "data": {
      "image/png": "[encoded data removed]",
      "text/plain": [
       "<Figure size 640x480 with 1 Axes>"
      ]
     },
     "metadata": {},
     "output_type": "display_data"
    }
   ],
   "source": [
    "plt.figure()\n",
    "plt.bar([0], [overall_gc], width=0.3, color=\"skyblue\", edgecolor=\"black\")\n",
    "plt.xticks([0], [\"Overall GC%\"])\n",
    "plt.ylabel(\"GC%\")\n",
    "plt.title(\"Overall GC%\")\n",
    "\n",
    "# expand the x-axis to make the bar thinner visually\n",
    "plt.xlim(-1, 1)  \n",
    "\n",
    "fig_path2 = os.path.join(FIGS, \"gc_overall.png\")\n",
    "plt.savefig(fig_path2, dpi=200, bbox_inches=\"tight\")\n",
    "fig_path2\n"
   ]
  },
  {
   "cell_type": "code",
   "execution_count": 15,
   "id": "bc822b0d-4070-4b8e-aebe-15460a51047b",
   "metadata": {},
   "outputs": [
    {
     "data": {
      "text/plain": [
       "('/home/f2ba0ff0-aa7c-4010-bd78-4611604e113c/gc-project/results/gc_extremes.csv',\n",
       " [{'start': 2000, 'end': 2200, 'length': 200, 'gc_percent': 0.0},\n",
       "  {'start': 2100, 'end': 2300, 'length': 200, 'gc_percent': 0.0},\n",
       "  {'start': 2200, 'end': 2400, 'length': 200, 'gc_percent': 0.0}],\n",
       " [{'start': 1800, 'end': 2000, 'length': 200, 'gc_percent': 100.0},\n",
       "  {'start': 1700, 'end': 1900, 'length': 200, 'gc_percent': 100.0},\n",
       "  {'start': 1600, 'end': 1800, 'length': 200, 'gc_percent': 100.0}])"
      ]
     },
     "execution_count": 15,
     "metadata": {},
     "output_type": "execute_result"
    }
   ],
   "source": [
    "K = 10\n",
    "rows_sorted = sorted(rows, key=lambda r: r[\"gc_percent\"])\n",
    "lowest = rows_sorted[:K]\n",
    "highest = rows_sorted[-K:][::-1]\n",
    "\n",
    "extreme_path = os.path.join(RES, \"gc_extremes.csv\")\n",
    "with open(extreme_path, \"w\", newline=\"\") as fh:\n",
    "    import csv\n",
    "    w = csv.DictWriter(fh, fieldnames=[\"which\",\"rank\",\"start\",\"end\",\"length\",\"gc_percent\"])\n",
    "    w.writeheader()\n",
    "    for i, r in enumerate(lowest, start=1):\n",
    "        w.writerow({\"which\":\"lowest\", \"rank\":i, **r})\n",
    "    for i, r in enumerate(highest, start=1):\n",
    "        w.writerow({\"which\":\"highest\", \"rank\":i, **r})\n",
    "\n",
    "extreme_path, lowest[:3], highest[:3]\n"
   ]
  },
  {
   "cell_type": "code",
   "execution_count": 2,
   "id": "81f664a9-18dd-4f71-a2a6-13f994783b3b",
   "metadata": {},
   "outputs": [
    {
     "data": {
      "text/plain": [
       "'/home/f2ba0ff0-aa7c-4010-bd78-4611604e113c/gc-project/README.md'"
      ]
     },
     "execution_count": 2,
     "metadata": {},
     "output_type": "execute_result"
    }
   ],
   "source": [
    "import os, datetime  # import: bring modules into this cell; 'os' = filesystem tools, 'datetime' = dates\n",
    "# The comma separates two module names in one import statement.\n",
    "\n",
    "root = os.getcwd()  # 'root' (variable name) = current working directory (folder where this notebook lives)\n",
    "# '=' assigns the value on the right to the name on the left.\n",
    "# os.getcwd() calls (parentheses) the function that returns the current path as a string.\n",
    "\n",
    "readme_path = os.path.join(root, \"README.md\")\n",
    "# os.path.join safely builds a path string from pieces (handles Windows/macOS separators).\n",
    "# \"README.md\" is the filename we want to create.\n",
    "\n",
    "fig1_rel = os.path.join(\"figures\", \"gc_profile.png\")\n",
    "fig2_rel = os.path.join(\"figures\", \"gc_overall.png\")\n",
    "table_rel = os.path.join(\"results\", \"gc_windows.csv\")\n",
    "# These are *relative* paths (from repo root). GitHub uses these to show images/files in the README.\n",
    "\n",
    "# ---- Build a tiny markdown table snippet from the first few CSV rows ----\n",
    "snippet_lines = []  # empty list to collect lines of markdown text\n",
    "max_rows = 5        # show at most 5 data rows in the README table (adjust if you like)\n",
    "\n",
    "# Add a markdown table header:\n",
    "snippet_lines.append(\"| start | end | length | gc_percent |\")   # first header row with column names\n",
    "snippet_lines.append(\"|---:|---:|---:|---:|\")                    # second header row with alignment (':' right-align numbers)\n",
    "\n",
    "# If the CSV exists, read its first few rows; else, put one placeholder row.\n",
    "if os.path.exists(table_rel):                       # if the file at 'table_rel' exists (True/False)\n",
    "    with open(table_rel, \"r\", newline=\"\") as fh:    # open the CSV file for reading; 'fh' = file handle\n",
    "        header = fh.readline()                      # read and discard the CSV header line (we already wrote our own)\n",
    "        for _ in range(max_rows):                   # underscore '_' means we ignore the loop index\n",
    "            line = fh.readline()                    # read one data line; returns '' (empty) at end-of-file\n",
    "            if not line:                            # if the line is empty (Falsey), stop early\n",
    "                break                               # exit the for-loop\n",
    "            start, end, length, gc = line.strip().split(\",\")  # strip newline, then split by comma into 4 strings\n",
    "            snippet_lines.append(f\"| {start} | {end} | {length} | {gc} |\")  # f-string builds one markdown row\n",
    "else:\n",
    "    snippet_lines.append(\"| 0 | 200 | 200 | 50.0 |\")  # fallback example row if CSV missing\n",
    "\n",
    "snippet_md = \"\\n\".join(snippet_lines)  # join list of lines into one string with newline separators\n",
    "\n",
    "# Try to show your computed overall GC% if it's defined in this kernel; otherwise write a placeholder.\n",
    "try:\n",
    "    overall_gc_str = f\"{overall_gc:.1f}%\"  # format overall_gc to 1 decimal place and add a % sign\n",
    "except NameError:\n",
    "    overall_gc_str = \"(compute in notebook)\"  # shown if 'overall_gc' variable doesn't exist\n",
    "\n",
    "# Build the README markdown body as one big f-string (we inject today's date and paths/values).\n",
    "readme_md = f\"\"\"# GC Content + Sliding Window (Publishable Mini-Project)\n",
    "\n",
    "**Updated:** {datetime.date.today().isoformat()}\n",
    "\n",
    "## Goal\n",
    "Compute overall GC% and a sliding-window GC profile for a DNA sequence (FASTA), then save figures and tables that others can reuse.\n",
    "\n",
    "## Methods (brief)\n",
    "- **Overall GC%** = (count of G or C) / (count of A/C/G/T) × 100.\n",
    "- **Sliding windows**: walk along the sequence in fixed-size windows and compute GC% per window.\n",
    "\n",
    "## Results (quick look)\n",
    "**Overall GC%:** {overall_gc_str}\n",
    "\n",
    "GC% profile:\n",
    "\n",
    "![GC profile]({fig1_rel})\n",
    "\n",
    "Overall GC% bar:\n",
    "\n",
    "![Overall GC]({fig2_rel})\n",
    "\n",
    "First few windows:\n",
    "\n",
    "{snippet_md}\n",
    "\n",
    "\"\"\"\n",
    "\n",
    "# Write the README file to disk.\n",
    "with open(readme_path, \"w\", encoding=\"utf-8\") as fh:  # open file for writing text; 'encoding' ensures Unicode-safe write\n",
    "    fh.write(readme_md)                               # write the full markdown string to the file\n",
    "\n",
    "readme_path  # final expression so Jupyter prints the path; click it to preview/download\n"
   ]
  },
  {
   "cell_type": "code",
   "execution_count": 5,
   "id": "397a055d-1cde-436d-ae93-de2af107de6b",
   "metadata": {},
   "outputs": [
    {
     "data": {
      "text/markdown": [
       "# GC Content + Sliding Window (Publishable Mini-Project)\n",
       "\n",
       "**Updated:** 2025-08-26\n",
       "\n",
       "## Goal\n",
       "Compute overall GC% and a sliding-window GC profile for a DNA sequence (FASTA), then save figures and tables that others can reuse.\n",
       "\n",
       "## Methods (brief)\n",
       "- **Overall GC%** = (count of G or C) / (count of A/C/G/T) × 100.\n",
       "- **Sliding windows**: walk along the sequence in fixed-size windows and compute GC% per window.\n",
       "\n",
       "## Results (quick look)\n",
       "**Overall GC%:** 50.0%\n",
       "\n",
       "GC% profile:\n",
       "\n",
       "![GC profile](figures/gc_profile.png)\n",
       "\n",
       "Overall GC% bar:\n",
       "\n",
       "![Overall GC](figures/gc_overall.png)\n",
       "\n",
       "First few windows:\n",
       "\n",
       "| start | end | length | gc_percent |\n",
       "|---:|---:|---:|---:|\n",
       "| 0 | 200 | 200 | 50.0 |\n",
       "| 100 | 300 | 200 | 50.0 |\n",
       "| 200 | 400 | 200 | 50.0 |\n",
       "| 300 | 500 | 200 | 50.0 |\n",
       "| 400 | 600 | 200 | 50.0 |\n",
       "\n",
       "\n",
       "## Next Steps\n",
       "We extended the analysis by running the pipeline on **real FASTA sequences**:\n",
       "- Human mitochondrial genome (rCRS, NC_012920.1)\n",
       "- *Escherichia coli* K-12 MG1655 (NC_000913.3)\n",
       "\n",
       "This produced updated GC% profiles and tables in the `results/` folder.\n",
       "\n",
       "## Data Sources\n",
       "- **Human mitochondrion (rCRS)** — NCBI RefSeq **NC_012920.1**  \n",
       "  FASTA viewer: https://www.ncbi.nlm.nih.gov/sviewer/viewer.fcgi?id=NC_012920.1&db=nuccore&report=fasta\n",
       "- **Escherichia coli K-12 substr. MG1655** — NCBI RefSeq **NC_000913.3**  \n",
       "  FASTA viewer: https://www.ncbi.nlm.nih.gov/sviewer/viewer.fcgi?id=NC_000913.3&db=nuccore&report=fasta\n",
       "\n",
       "*This section was appended on 2025-08-27 to cite sequence sources used in analyses.*\n"
      ],
      "text/plain": [
       "<IPython.core.display.Markdown object>"
      ]
     },
     "metadata": {},
     "output_type": "display_data"
    }
   ],
   "source": [
    "from IPython.display import Markdown, display  # import renderer tools\n",
    "\n",
    "with open(\"README.md\", \"r\", encoding=\"utf-8\") as fh:  # open README.md for reading\n",
    "    md_text = fh.read()                              # read file content as one string\n",
    "display(Markdown(md_text))                           # tell Jupyter: render as Markdown\n"
   ]
  },
  {
   "cell_type": "code",
   "execution_count": 1,
   "id": "e23e15fc-c6bd-47ff-98e4-ea4d1f1fcf23",
   "metadata": {},
   "outputs": [],
   "source": [
    "# GC content analysis for real FASTA files\n",
    "# -------------------------------\n",
    "# CREATE FOLDERS FOR DATA/RESULTS\n",
    "# -------------------------------\n",
    "\n",
    "# 'import' is a Python keyword that loads code from a module (a reusable library).\n",
    "# 'pathlib' is a standard library module that gives us object-based filesystem paths\n",
    "#   (nicer than plain strings).\n",
    "from pathlib import Path  # 'from ... import ...' brings only 'Path' into our namespace.\n",
    "\n",
    "# 'Path()' creates a path object pointing to the *current working directory* by default.\n",
    "# '.resolve()' converts it to an absolute path (no '..' pieces).\n",
    "BASE = Path().resolve()  # We use ALL-CAPS to show this is a constant-like \"configuration\" variable.\n",
    "\n",
    "# We build a list of directories we want to ensure exist.\n",
    "# 'BASE / \"data\"' uses the '/' operator overloaded by Path to join paths (equivalent to os.path.join).\n",
    "dirs_to_make = [\n",
    "    BASE / \"data\",              # will hold FASTA files we download or add manually\n",
    "    BASE / \"results\" / \"mtDNA\", # will hold outputs for the human mitochondrion run\n",
    "    BASE / \"results\" / \"ecoli\", # will hold outputs for the E. coli run\n",
    "]\n",
    "\n",
    "# 'for' starts a loop; 'p' is our loop variable (each element of 'dirs_to_make' in turn).\n",
    "# '.mkdir(...)' actually creates the directory.\n",
    "# 'parents=True' means create any missing parent folders (e.g., create 'results' before 'results/mtDNA').\n",
    "# 'exist_ok=True' means *don’t error* if the folder already exists (idempotent/safe).\n",
    "for p in dirs_to_make:\n",
    "    p.mkdir(parents=True, exist_ok=True)\n"
   ]
  },
  {
   "cell_type": "code",
   "execution_count": 3,
   "id": "3d88a924-1dc5-4b48-b0a6-87b7729312fe",
   "metadata": {},
   "outputs": [
    {
     "name": "stdout",
     "output_type": "stream",
     "text": [
      "Downloaded:\n",
      " - /home/f2ba0ff0-aa7c-4010-bd78-4611604e113c/gc-project/data/human_mtDNA_NC_012920.1.fasta\n",
      " - /home/f2ba0ff0-aa7c-4010-bd78-4611604e113c/gc-project/data/Ecoli_MG1655_NC_000913.3.fna\n"
     ]
    }
   ],
   "source": [
    "# --------------------------------------\n",
    "# DOWNLOAD FASTA(S) AUTOMATICALLY\n",
    "# --------------------------------------\n",
    "# This cell uses urllib to fetch the FASTA directly from NCBI viewer \"FASTA\" endpoints.\n",
    "\n",
    "import urllib.request  # 'urllib.request' provides 'urlretrieve' to download a URL to a local file.\n",
    "\n",
    "# We define a tiny helper function with explicit parameters and verbose comments.\n",
    "def fetch(url: str, out_path: str) -> None:\n",
    "    \"\"\"\n",
    "    Download a file from 'url' to local file 'out_path'.\n",
    "    - 'url' (type: str) is the web address to download from.\n",
    "    - 'out_path' (type: str) is where to save the file locally.\n",
    "    Returns nothing (None) but writes the file to disk.\n",
    "    \"\"\"\n",
    "    # 'urllib.request.urlretrieve' actually performs the download\n",
    "    #  1st argument: the URL string\n",
    "    #  2nd argument: the destination path string\n",
    "    # It will create/overwrite 'out_path' with the downloaded content.\n",
    "    urllib.request.urlretrieve(url, out_path)\n",
    "\n",
    "# Human mitochondrion (rCRS) FASTA \"viewer\" URL:\n",
    "mt_url = (\n",
    "    \"https://www.ncbi.nlm.nih.gov/sviewer/viewer.fcgi\"\n",
    "    \"?id=NC_012920.1&db=nuccore&report=fasta\"  # query string picks db and 'fasta' format\n",
    ")\n",
    "# E. coli MG1655 FASTA \"viewer\" URL:\n",
    "ecoli_url = (\n",
    "    \"https://www.ncbi.nlm.nih.gov/sviewer/viewer.fcgi\"\n",
    "    \"?id=NC_000913.3&db=nuccore&report=fasta\"\n",
    ")\n",
    "\n",
    "# Build output paths inside our repo structure, using Path for correctness across OSes.\n",
    "mt_out   = (BASE / \"data\" / \"human_mtDNA_NC_012920.1.fasta\").as_posix()  # '.as_posix()' -> clean \"path/to\" string\n",
    "ec_out   = (BASE / \"data\" / \"Ecoli_MG1655_NC_000913.3.fna\").as_posix()\n",
    "\n",
    "# Actually fetch the files.\n",
    "fetch(mt_url, mt_out)\n",
    "fetch(ecoli_url, ec_out)\n",
    "\n",
    "print(\"Downloaded:\")\n",
    "print(\" -\", mt_out)\n",
    "print(\" -\", ec_out)\n"
   ]
  },
  {
   "cell_type": "code",
   "execution_count": null,
   "id": "fa626f8e-c77f-40ed-bedb-77ef9b8924f1",
   "metadata": {},
   "outputs": [],
   "source": []
  }
 ],
 "metadata": {
  "kernelspec": {
   "display_name": "anaconda-2024.02-py310",
   "language": "python",
   "name": "conda-env-anaconda-2024.02-py310-py"
  },
  "language_info": {
   "codemirror_mode": {
    "name": "ipython",
    "version": 3
   },
   "file_extension": ".py",
   "mimetype": "text/x-python",
   "name": "python",
   "nbconvert_exporter": "python",
   "pygments_lexer": "ipython3",
   "version": "3.10.14"
  }
 },
 "nbformat": 4,
 "nbformat_minor": 5
}
